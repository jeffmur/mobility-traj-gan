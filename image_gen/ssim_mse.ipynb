{
 "metadata": {
  "language_info": {
   "codemirror_mode": {
    "name": "ipython",
    "version": 3
   },
   "file_extension": ".py",
   "mimetype": "text/x-python",
   "name": "python",
   "nbconvert_exporter": "python",
   "pygments_lexer": "ipython3",
   "version": "3.7.8"
  },
  "orig_nbformat": 2,
  "kernelspec": {
   "name": "python3",
   "display_name": "Python 3",
   "language": "python"
  }
 },
 "nbformat": 4,
 "nbformat_minor": 2,
 "cells": [
  {
   "source": [
    "import imageCompare as ic \n",
    "import lib.config as c"
   ],
   "cell_type": "code",
   "metadata": {},
   "execution_count": 1,
   "outputs": []
  },
  {
   "cell_type": "code",
   "execution_count": 2,
   "metadata": {},
   "outputs": [],
   "source": [
    "# Input: all_months *.png\n",
    "df, img = ic.createSSIMimage(c.DataOutputDirectory+'gps_0.186411_all')\n",
    "img.save('ssim.png')"
   ]
  },
  {
   "cell_type": "code",
   "execution_count": 3,
   "metadata": {},
   "outputs": [
    {
     "output_type": "stream",
     "name": "stdout",
     "text": [
      "0.5126480691222698\n0.17766450457564187\n"
     ]
    }
   ],
   "source": [
    "print(df.values.mean())\n",
    "print(df.values.std())"
   ]
  },
  {
   "cell_type": "code",
   "execution_count": 7,
   "metadata": {},
   "outputs": [],
   "source": [
    "df, img = ic.createMSEimage(c.DataOutputDirectory+'gps_0.186411_all')\n",
    "img.save('mse.png')"
   ]
  }
 ]
}